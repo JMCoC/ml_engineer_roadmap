{
 "cells": [
  {
   "cell_type": "markdown",
   "id": "2d2d1bdb",
   "metadata": {},
   "source": [
    "# Logistic Regression\n",
    "Some regression algorithms can be used for classification as well (and vice versa). Logistic Regression is commonly used to estimate the probability that an instance belongs to a particular class\n",
    "\n",
    "### Estimating Probabilities\n",
    "\n",
    "Just like a Linear Regression model, a Logistic Regression model computes a weighted sum of the input features (plus a bias term), but instead of outputting the result directly like the Linear Regression model does, it outputs the\n",
    "logistic of this result"
   ]
  }
 ],
 "metadata": {
  "language_info": {
   "name": "python"
  }
 },
 "nbformat": 4,
 "nbformat_minor": 5
}
