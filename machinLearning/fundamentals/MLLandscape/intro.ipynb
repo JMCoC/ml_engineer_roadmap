{
 "cells": [
  {
   "cell_type": "markdown",
   "metadata": {},
   "source": [
    "# The Machine Learning Landscape\n",
    "\n",
    "### What is Machine Learning?\n",
    "\n",
    "- Machine Learning is the science (and art) of programming computers so they can\n",
    "learn from data.\n",
    "\n",
    "### Why use Machine Learning?\n",
    "\n",
    "- Problems for which existing solutions require a lot of hand-tuning or long lists of\n",
    "rules: one Machine Learning algorithm can often simplify code and perform better.\n",
    "- Complex problems for which there is no good solution at all using a traditional\n",
    "approach: the best Machine Learning techniques can find a solution.\n",
    "- Fluctuating environments: a Machine Learning system can adapt to new data.\n",
    "- Getting insights about complex problems and large amounts of data."
   ]
  }
 ],
 "metadata": {
  "language_info": {
   "name": "python"
  }
 },
 "nbformat": 4,
 "nbformat_minor": 2
}
